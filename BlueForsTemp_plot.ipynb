
import matplotlib.pyplot as plt
from mpldatacursor import datacursor


date_array=[]
time_array=[]
datechange_index=[]
temp_array=[]
dates = ["08","09","10","11","12"]
count_global = 0

for date in dates:
    myfile = open("/Users/Owner/Desktop/april_temp_log/21-04-"+date+"/CH1 T 21-04-"+date+".log","r") #returns file handle
    ##myfile.read() # reading from the file
    Lines = myfile.readlines()
    count = 0
    # Strips the newline character
    for line in Lines:
        count += 1                  #keeping track of how many lines
        count_global += 1
        #print(line)
        log_data = line.split(",")
        
        log_data[0] = log_data[0].replace(' ', '')   #removing ' ' in the 1st element
        log_data[2] = log_data[2].rstrip()           #removing "\n" in the 3rd element
        #print(log_data)
        time_array.append(log_data[1])
        temp_array.append(float(log_data[2]))
        date_array.append(log_data[0])
        #print(count)
        if log_data[1][0:5] == "00:00":
            datechange_index.append(count_global-1)
            print(log_data[1], "-",count_global-1)
        
        #print(float(item_list[2]))                       # <--- converting string to float 
        #print("Line{}: {}".format(count, line.strip()))


    myfile.close()
print(len(time_array))
print(datechange_index)
#print(temp_array)
plt.plot(temp_array)

#plt.xticks(datechange_index)
#print(date_array)
datechange=[]
for date in datechange_index:
    #print(date)
    #print(date_array[date])
    datechange.append(date_array[date])
print(datechange)


fig, ax = plt.xticks(datechange_index,datechange)

datacursor(display='single')


plt.ylabel('Temp in Kelvin')
plt.figure(figsize=(70,20))
plt.show()